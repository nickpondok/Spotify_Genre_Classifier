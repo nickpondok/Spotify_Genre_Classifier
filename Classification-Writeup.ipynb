{
 "cells": [
  {
   "cell_type": "markdown",
   "id": "5bf50de3",
   "metadata": {},
   "source": [
    "### Abstract\n",
    "\n",
    "The goal of this project was to generate a music genre classifier. My goal with this project was to use audio features provided by Spotify to create a classifer that can accuratly classify the music genre. I will be taking a look at the performance of several different algorithms to see which I can get to perform best in terms of accuracy. "
   ]
  },
  {
   "cell_type": "markdown",
   "id": "4b98aa82",
   "metadata": {},
   "source": [
    "### Design\n",
    " For new artists it's important to know your own genre to help ensure your music is reaching your target audience. However, in today's music industry genres are dynamic and are often classified based off of feelings instead of logic and reason.\n"
   ]
  },
  {
   "cell_type": "markdown",
   "id": "b769f794",
   "metadata": {},
   "source": [
    "### Data\n",
    "\n",
    "The dataset consisted of over 50,000 songs pulled from spotify using the spotify API. The data was scrubbed to ensure the songs we had were classified into a \"normal\" genre (not one of Spotify's many niche genres such as \"in the car.\" In addition to the songs, all the audio features of the songs were pulled from Spotify as well. This included 13 features such as \"energy\", \"danceability\", and \"loudness.\" "
   ]
  },
  {
   "cell_type": "markdown",
   "id": "d238da4c",
   "metadata": {},
   "source": [
    "### Algorithms\n",
    "\n",
    "Feature Engineering:\n",
    "1. Using for loop to find best k value for KNN \n",
    "2.Using for loop to find best n_estimator value for Random Forest\n",
    "\n",
    "Models\n",
    "\n",
    "The three models I attempted to use were KNN, Logistic Regression and Random Forest. In the end I decided to go with Random Forest since it performed best and accuracy is what I was aiming for with my problem. Additionally KNN proved to be difficult to work with given the size of my dataset. Since logistic regression does not optimize accuracy, it did not seem like the ideal option. \n",
    "\n",
    "When it came to Random Forest, I performed an 80/20 train, test split on my data. I then performed bootstraping with Random Forest with n_estimator equal to 100. Different numbers of estimators made very little difference in performance. I left the class weight as the default for my final model. I did attempt to run it with a balanced weight, but the balanced model actually performed worse than the default. \n",
    "\n",
    "\n",
    "The accuracy on the training data was high (as expected) of .99 while the test accuracy was significantly less with a .437 accuracy. "
   ]
  },
  {
   "cell_type": "markdown",
   "id": "9f7f3d5c",
   "metadata": {},
   "source": [
    "### Tools \n",
    "Numpy,Pandas, \n",
    "Scikit-learn,\n",
    "Matplotlib and Seaborn\n"
   ]
  },
  {
   "cell_type": "code",
   "execution_count": null,
   "id": "5a206b0f",
   "metadata": {},
   "outputs": [],
   "source": []
  }
 ],
 "metadata": {
  "kernelspec": {
   "display_name": "Python 3",
   "language": "python",
   "name": "python3"
  },
  "language_info": {
   "codemirror_mode": {
    "name": "ipython",
    "version": 3
   },
   "file_extension": ".py",
   "mimetype": "text/x-python",
   "name": "python",
   "nbconvert_exporter": "python",
   "pygments_lexer": "ipython3",
   "version": "3.8.8"
  }
 },
 "nbformat": 4,
 "nbformat_minor": 5
}
