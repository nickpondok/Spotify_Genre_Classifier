{
 "cells": [
  {
   "cell_type": "markdown",
   "id": "da6ec04e",
   "metadata": {},
   "source": [
    "## Question/need:\n",
    "### What is the framing question of your analysis, or the purpose of the model/system you plan to build? Who benefits from exploring this question or building this model/system?\n",
    "The purpose of the model I plan to build is to be able to classify the genre of a song when given the audio features. Genre is getting harder and harder to classify in today's music industry. The genre an artist thinks they are may differ than how major streaming platforms may categorize them. As an artist it is important to understand what genre of music you best fit in order to ensure you're reaching the right audiences. With my model, I hope to be able to provide a algorithmic solution to that problem. Instead of going off thoughts and feelings about a song/ collection of songs, my model will take a look at the audio features defined by spotify and how genres are classified on that streaming platform. Hopefully this could help new/upcoming artists to ensure their definitions of genres are at least somewhat aligned with the definitions on a major streaming platform. If they do, then that's great, but if they do not then the artist can either claim to be a part of a different genre, or change their music style to fit the genre they desire. \n",
    "\n",
    "\n",
    "## Data Description:\n",
    "### What dataset(s) do you plan to use, and how will you obtain the data? What is an individual sample/unit of analysis in this project? What characteristics/features do you expect to work with? If modeling, what will you predict as your target?\n",
    "I plan to use data pulled from spotify's api. I will get ~10k songs from 3-5 different genres (as classified by spotify). I will then take a look at the audio features of each of those songs and use those as features to see if genre can be predicted. There are 10 audio features assigned to every song and those will be the features in my model. The target of the model will be the genre. One baseline piece of analysis is that each genre's songs will all share similar audio features thus allowing us to make these predictions. \n",
    "\n",
    "\n",
    "## Tools:\n",
    "### How do you intend to meet the tools requirement of the project? Are you planning in advance to need or use additional tools beyond those required?\n",
    "I will be using sklearn to create the model on my data. In order to store my data I will create a sql database. For visualizations, I plan to use Python libraries such as matplotlib and seaborn. Lastly, I will attempt to deploy a streamlit app to make my finds more interactive.\n",
    "\n",
    "## MVP Goal:\n",
    "### What would a minimum viable product (MVP) look like for this project?\n",
    "An MVP for this project would be a baseline model for 1-3 features that seem to have a big impact on prediction. "
   ]
  },
  {
   "cell_type": "code",
   "execution_count": null,
   "id": "bf25b037",
   "metadata": {},
   "outputs": [],
   "source": []
  }
 ],
 "metadata": {
  "kernelspec": {
   "display_name": "Python 3",
   "language": "python",
   "name": "python3"
  },
  "language_info": {
   "codemirror_mode": {
    "name": "ipython",
    "version": 3
   },
   "file_extension": ".py",
   "mimetype": "text/x-python",
   "name": "python",
   "nbconvert_exporter": "python",
   "pygments_lexer": "ipython3",
   "version": "3.8.8"
  }
 },
 "nbformat": 4,
 "nbformat_minor": 5
}
